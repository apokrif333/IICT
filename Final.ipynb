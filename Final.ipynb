{
 "cells": [
  {
   "cell_type": "code",
   "execution_count": 3,
   "metadata": {},
   "outputs": [],
   "source": [
    "import pandas as pd\n",
    "import numpy as np\n",
    "import re\n",
    "import functools\n",
    "import operator\n",
    "from sklearn.metrics.pairwise import cosine_similarity\n",
    "from tqdm import tqdm"
   ]
  },
  {
   "cell_type": "code",
   "execution_count": 4,
   "metadata": {},
   "outputs": [
    {
     "name": "stderr",
     "output_type": "stream",
     "text": [
      "100%|████████████████████████████████████████████████████████████████████| 8432428/8432428 [00:26<00:00, 315316.89it/s]\n"
     ]
    }
   ],
   "source": [
    "df = pd.read_csv('data/lenta-ru-news.csv')\n",
    "\n",
    "clear_df = pd.DataFrame({})\n",
    "clear_df['text'] = df.text.str.lower().str.replace(r\"(\\n|\\t|\\xa0)\", ' ').str.replace(r\"\\.\\s+\", r\".\").str.replace(\n",
    "    r\"(«|»|,|:|\\(|\\)|\\[|\\]|,)\", \"\")\n",
    "\n",
    "clear_df['text'] = clear_df['text'].str.split(\".\")\n",
    "clear_df.dropna(inplace=True)\n",
    "all_sentences = functools.reduce(operator.iconcat, clear_df['text'], [])\n",
    "true_idx = [idx for idx, sent in enumerate(all_sentences) if sent is not '']\n",
    "all_sentences = list(operator.itemgetter(*true_idx)(all_sentences))\n",
    "\n",
    "need_words = [\"прокурор\", \"следствие\", \"авария\", \"гражданин\", \"указ\", \"акция\", \"белка\", \"граф\", \"орган\", \"вид\"]\n",
    "need_sentences = []\n",
    "for idx in tqdm(range(len(all_sentences))):\n",
    "    if len(set(need_words) & set(all_sentences[idx].split())) != 0:\n",
    "        need_sentences.append(all_sentences[idx])"
   ]
  },
  {
   "cell_type": "code",
   "execution_count": 5,
   "metadata": {},
   "outputs": [],
   "source": [
    "words_dict = dict()"
   ]
  },
  {
   "cell_type": "code",
   "execution_count": 6,
   "metadata": {},
   "outputs": [
    {
     "name": "stderr",
     "output_type": "stream",
     "text": [
      "WARNING: Logging before flag parsing goes to stderr.\n",
      "W0624 06:42:46.924900  6888 __init__.py:56] Some hub symbols are not available because TensorFlow version is less than 1.14\n"
     ]
    }
   ],
   "source": [
    "import tensorflow as tf\n",
    "import tensorflow_hub as hub"
   ]
  },
  {
   "cell_type": "code",
   "execution_count": null,
   "metadata": {},
   "outputs": [
    {
     "name": "stdout",
     "output_type": "stream",
     "text": [
      "13000\n",
      "WARNING:tensorflow:From d:\\python 3.7.2\\lib\\site-packages\\tensorflow\\python\\ops\\control_flow_ops.py:3632: colocate_with (from tensorflow.python.framework.ops) is deprecated and will be removed in a future version.\n",
      "Instructions for updating:\n",
      "Colocations handled automatically by placer.\n"
     ]
    },
    {
     "name": "stderr",
     "output_type": "stream",
     "text": [
      "W0624 06:48:06.136638  6888 deprecation.py:323] From d:\\python 3.7.2\\lib\\site-packages\\tensorflow\\python\\ops\\control_flow_ops.py:3632: colocate_with (from tensorflow.python.framework.ops) is deprecated and will be removed in a future version.\n",
      "Instructions for updating:\n",
      "Colocations handled automatically by placer.\n"
     ]
    },
    {
     "name": "stdout",
     "output_type": "stream",
     "text": [
      "INFO:tensorflow:Saver not created because there are no variables in the graph to restore\n"
     ]
    },
    {
     "name": "stderr",
     "output_type": "stream",
     "text": [
      "I0624 06:48:11.037601  6888 saver.py:1483] Saver not created because there are no variables in the graph to restore\n"
     ]
    },
    {
     "name": "stdout",
     "output_type": "stream",
     "text": [
      "(500, 45, 512)\n"
     ]
    },
    {
     "name": "stderr",
     "output_type": "stream",
     "text": [
      "500it [00:00, 124682.05it/s]\n"
     ]
    },
    {
     "name": "stdout",
     "output_type": "stream",
     "text": [
      "прокурор 0.39702857\n",
      "следствие 0.36564332\n",
      "авария 0.3068923\n",
      "гражданин 0.48249385\n",
      "указ 0.3114428\n",
      "акция 0.49487162\n",
      "белка 0.4570685\n",
      "граф 0.37903467\n",
      "орган 0.28592426\n",
      "вид 0.2575394\n",
      "13500\n",
      "INFO:tensorflow:Saver not created because there are no variables in the graph to restore\n"
     ]
    },
    {
     "name": "stderr",
     "output_type": "stream",
     "text": [
      "I0624 06:48:57.912265  6888 saver.py:1483] Saver not created because there are no variables in the graph to restore\n"
     ]
    },
    {
     "name": "stdout",
     "output_type": "stream",
     "text": [
      "(500, 46, 512)\n"
     ]
    },
    {
     "name": "stderr",
     "output_type": "stream",
     "text": [
      "500it [00:00, 99372.25it/s]\n"
     ]
    },
    {
     "name": "stdout",
     "output_type": "stream",
     "text": [
      "прокурор 0.3319915\n",
      "следствие 0.37928104\n",
      "авария 0.3072321\n",
      "гражданин 0.4858073\n",
      "указ 0.27658695\n",
      "акция 0.49971578\n",
      "белка 0.47531202\n",
      "граф 0.4778846\n",
      "орган 0.36309218\n",
      "вид 0.1998263\n",
      "14000\n",
      "INFO:tensorflow:Saver not created because there are no variables in the graph to restore\n"
     ]
    },
    {
     "name": "stderr",
     "output_type": "stream",
     "text": [
      "I0624 06:49:47.791711  6888 saver.py:1483] Saver not created because there are no variables in the graph to restore\n"
     ]
    },
    {
     "name": "stdout",
     "output_type": "stream",
     "text": [
      "(500, 54, 512)\n"
     ]
    },
    {
     "name": "stderr",
     "output_type": "stream",
     "text": [
      "500it [00:00, 83111.48it/s]\n"
     ]
    },
    {
     "name": "stdout",
     "output_type": "stream",
     "text": [
      "прокурор 0.29511926\n",
      "следствие 0.38268533\n",
      "авария 0.3321645\n",
      "гражданин 0.48452672\n",
      "указ 0.31756997\n",
      "акция 0.49996585\n",
      "белка 0.482211\n",
      "граф 0.48049316\n",
      "орган 0.36687613\n",
      "вид 0.16389391\n",
      "14500\n",
      "INFO:tensorflow:Saver not created because there are no variables in the graph to restore\n"
     ]
    },
    {
     "name": "stderr",
     "output_type": "stream",
     "text": [
      "I0624 06:50:54.581319  6888 saver.py:1483] Saver not created because there are no variables in the graph to restore\n"
     ]
    },
    {
     "name": "stdout",
     "output_type": "stream",
     "text": [
      "(500, 56, 512)\n"
     ]
    },
    {
     "name": "stderr",
     "output_type": "stream",
     "text": [
      "500it [00:00, 66020.84it/s]\n"
     ]
    },
    {
     "name": "stdout",
     "output_type": "stream",
     "text": [
      "прокурор 0.3012778\n",
      "следствие 0.39031237\n",
      "авария 0.34567863\n",
      "гражданин 0.4842588\n",
      "указ 0.3217077\n",
      "акция 0.4919809\n",
      "белка 0.4725584\n",
      "граф 0.47574297\n",
      "орган 0.3679258\n",
      "вид 0.14253578\n",
      "15000\n",
      "INFO:tensorflow:Saver not created because there are no variables in the graph to restore\n"
     ]
    },
    {
     "name": "stderr",
     "output_type": "stream",
     "text": [
      "I0624 06:52:32.665631  6888 saver.py:1483] Saver not created because there are no variables in the graph to restore\n"
     ]
    },
    {
     "name": "stdout",
     "output_type": "stream",
     "text": [
      "(500, 84, 512)\n"
     ]
    },
    {
     "name": "stderr",
     "output_type": "stream",
     "text": [
      "500it [00:00, 16725.97it/s]\n"
     ]
    },
    {
     "name": "stdout",
     "output_type": "stream",
     "text": [
      "прокурор 0.29696867\n",
      "следствие 0.39176434\n",
      "авария 0.3552468\n",
      "гражданин 0.4830655\n",
      "указ 0.31117275\n",
      "акция 0.48600978\n",
      "белка 0.47341424\n",
      "граф 0.47336406\n",
      "орган 0.3671158\n",
      "вид 0.1343296\n",
      "15500\n",
      "INFO:tensorflow:Saver not created because there are no variables in the graph to restore\n"
     ]
    },
    {
     "name": "stderr",
     "output_type": "stream",
     "text": [
      "I0624 06:54:48.220791  6888 saver.py:1483] Saver not created because there are no variables in the graph to restore\n"
     ]
    },
    {
     "name": "stdout",
     "output_type": "stream",
     "text": [
      "(500, 46, 512)\n"
     ]
    },
    {
     "name": "stderr",
     "output_type": "stream",
     "text": [
      "500it [00:00, 49863.33it/s]\n"
     ]
    },
    {
     "name": "stdout",
     "output_type": "stream",
     "text": [
      "прокурор 0.29631752\n",
      "следствие 0.3961293\n",
      "авария 0.35482943\n",
      "гражданин 0.48263103\n",
      "указ 0.31724486\n",
      "акция 0.4828658\n",
      "белка 0.46081716\n",
      "граф 0.49894473\n",
      "орган 0.3649261\n",
      "вид 0.1205476\n",
      "16000\n",
      "INFO:tensorflow:Saver not created because there are no variables in the graph to restore\n"
     ]
    },
    {
     "name": "stderr",
     "output_type": "stream",
     "text": [
      "I0624 06:57:17.643091  6888 saver.py:1483] Saver not created because there are no variables in the graph to restore\n"
     ]
    },
    {
     "name": "stdout",
     "output_type": "stream",
     "text": [
      "(500, 56, 512)\n"
     ]
    },
    {
     "name": "stderr",
     "output_type": "stream",
     "text": [
      "500it [00:00, 10869.62it/s]\n"
     ]
    },
    {
     "name": "stdout",
     "output_type": "stream",
     "text": [
      "прокурор 0.29371268\n",
      "следствие 0.39850917\n",
      "авария 0.35357144\n",
      "гражданин 0.4842082\n",
      "указ 0.32085538\n",
      "акция 0.47969958\n",
      "белка 0.47366464\n",
      "граф 0.49507576\n",
      "орган 0.373546\n",
      "вид 0.110288754\n",
      "16500\n",
      "INFO:tensorflow:Saver not created because there are no variables in the graph to restore\n"
     ]
    },
    {
     "name": "stderr",
     "output_type": "stream",
     "text": [
      "I0624 07:00:44.162150  6888 saver.py:1483] Saver not created because there are no variables in the graph to restore\n"
     ]
    },
    {
     "name": "stdout",
     "output_type": "stream",
     "text": [
      "(500, 61, 512)\n"
     ]
    },
    {
     "name": "stderr",
     "output_type": "stream",
     "text": [
      "500it [00:00, 7442.46it/s]\n"
     ]
    },
    {
     "name": "stdout",
     "output_type": "stream",
     "text": [
      "прокурор 0.3130544\n",
      "следствие 0.39777136\n",
      "авария 0.3510055\n",
      "гражданин 0.4867977\n",
      "указ 0.32204825\n",
      "акция 0.47973385\n",
      "белка 0.48467118\n",
      "граф 0.49430943\n",
      "орган 0.3748848\n",
      "вид 0.10248425\n",
      "17000\n"
     ]
    }
   ],
   "source": [
    "start = 13_000\n",
    "step = 500\n",
    "\n",
    "for sent_idx in range(start, len(need_sentences), step):\n",
    "    print(sent_idx)\n",
    "    \n",
    "    elmo_tf = hub.Module(\"http://files.deeppavlov.ai/deeppavlov_data/elmo_ru-news_wmt11-16_1.5M_steps.tar.gz\", trainable=True)\n",
    "    sess = tf.Session()\n",
    "    sess.run(tf.global_variables_initializer())\n",
    "    \n",
    "    sent_batch = need_sentences[sent_idx-step:sent_idx]\n",
    "    vectors = sess.run(elmo_tf(sent_batch, signature=\"default\", as_dict=True)[\"word_emb\"])\n",
    "    print(vectors.shape)\n",
    "\n",
    "    for sentence in sent_batch:\n",
    "        new_keys = set(sentence.split()) - set(words_dict.keys())\n",
    "        words_dict.update(\n",
    "            dict(zip(new_keys, len(new_keys) * [[]]))\n",
    "        )\n",
    "\n",
    "    for cur_sentence, cur_vector in tqdm(zip(sent_batch, vectors)):\n",
    "        split_sentence = cur_sentence.split()\n",
    "        for word in range(len(split_sentence)):\n",
    "            words_dict[split_sentence[word]].append(cur_vector[word])\n",
    "\n",
    "    for word in need_words:\n",
    "        difference = []\n",
    "        for i in range(len(words_dict[word])-1):\n",
    "#             difference.append(np.linalg.norm(words_dict[word][i] - words_dict[word][i+1]))\n",
    "            difference.append(\n",
    "                cosine_similarity(words_dict[word][i].reshape(1, -1) - words_dict[word][i+1].reshape(1, -1))\n",
    "            )\n",
    "\n",
    "        print(word, np.std(difference))\n",
    "        \n",
    "    sess.close()"
   ]
  }
 ],
 "metadata": {
  "kernelspec": {
   "display_name": "Python 3",
   "language": "python",
   "name": "python3"
  },
  "language_info": {
   "codemirror_mode": {
    "name": "ipython",
    "version": 3
   },
   "file_extension": ".py",
   "mimetype": "text/x-python",
   "name": "python",
   "nbconvert_exporter": "python",
   "pygments_lexer": "ipython3",
   "version": "3.7.2"
  }
 },
 "nbformat": 4,
 "nbformat_minor": 2
}
